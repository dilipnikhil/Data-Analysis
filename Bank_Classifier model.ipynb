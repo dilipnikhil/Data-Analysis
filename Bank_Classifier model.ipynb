{
 "cells": [
  {
   "cell_type": "code",
   "execution_count": 1,
   "metadata": {},
   "outputs": [],
   "source": [
    "import pandas as pd\n",
    "import matplotlib.pyplot as plt\n",
    "import seaborn as sns\n",
    "sns.set()"
   ]
  },
  {
   "cell_type": "code",
   "execution_count": 2,
   "metadata": {},
   "outputs": [],
   "source": [
    "import numpy as np"
   ]
  },
  {
   "cell_type": "markdown",
   "metadata": {},
   "source": [
    "# Import the data"
   ]
  },
  {
   "cell_type": "code",
   "execution_count": 3,
   "metadata": {},
   "outputs": [],
   "source": [
    "raw_data=pd.read_csv(\"bank-additional-full.csv\",sep=\";\")"
   ]
  },
  {
   "cell_type": "code",
   "execution_count": 4,
   "metadata": {},
   "outputs": [
    {
     "data": {
      "text/html": [
       "<div>\n",
       "<style scoped>\n",
       "    .dataframe tbody tr th:only-of-type {\n",
       "        vertical-align: middle;\n",
       "    }\n",
       "\n",
       "    .dataframe tbody tr th {\n",
       "        vertical-align: top;\n",
       "    }\n",
       "\n",
       "    .dataframe thead th {\n",
       "        text-align: right;\n",
       "    }\n",
       "</style>\n",
       "<table border=\"1\" class=\"dataframe\">\n",
       "  <thead>\n",
       "    <tr style=\"text-align: right;\">\n",
       "      <th></th>\n",
       "      <th>age</th>\n",
       "      <th>job</th>\n",
       "      <th>marital</th>\n",
       "      <th>education</th>\n",
       "      <th>default</th>\n",
       "      <th>housing</th>\n",
       "      <th>loan</th>\n",
       "      <th>contact</th>\n",
       "      <th>month</th>\n",
       "      <th>day_of_week</th>\n",
       "      <th>...</th>\n",
       "      <th>campaign</th>\n",
       "      <th>pdays</th>\n",
       "      <th>previous</th>\n",
       "      <th>poutcome</th>\n",
       "      <th>emp.var.rate</th>\n",
       "      <th>cons.price.idx</th>\n",
       "      <th>cons.conf.idx</th>\n",
       "      <th>euribor3m</th>\n",
       "      <th>nr.employed</th>\n",
       "      <th>y</th>\n",
       "    </tr>\n",
       "  </thead>\n",
       "  <tbody>\n",
       "    <tr>\n",
       "      <td>0</td>\n",
       "      <td>56</td>\n",
       "      <td>housemaid</td>\n",
       "      <td>married</td>\n",
       "      <td>basic.4y</td>\n",
       "      <td>no</td>\n",
       "      <td>no</td>\n",
       "      <td>no</td>\n",
       "      <td>telephone</td>\n",
       "      <td>may</td>\n",
       "      <td>mon</td>\n",
       "      <td>...</td>\n",
       "      <td>1</td>\n",
       "      <td>999</td>\n",
       "      <td>0</td>\n",
       "      <td>nonexistent</td>\n",
       "      <td>1.1</td>\n",
       "      <td>93.994</td>\n",
       "      <td>-36.4</td>\n",
       "      <td>4.857</td>\n",
       "      <td>5191.0</td>\n",
       "      <td>no</td>\n",
       "    </tr>\n",
       "    <tr>\n",
       "      <td>1</td>\n",
       "      <td>57</td>\n",
       "      <td>services</td>\n",
       "      <td>married</td>\n",
       "      <td>high.school</td>\n",
       "      <td>unknown</td>\n",
       "      <td>no</td>\n",
       "      <td>no</td>\n",
       "      <td>telephone</td>\n",
       "      <td>may</td>\n",
       "      <td>mon</td>\n",
       "      <td>...</td>\n",
       "      <td>1</td>\n",
       "      <td>999</td>\n",
       "      <td>0</td>\n",
       "      <td>nonexistent</td>\n",
       "      <td>1.1</td>\n",
       "      <td>93.994</td>\n",
       "      <td>-36.4</td>\n",
       "      <td>4.857</td>\n",
       "      <td>5191.0</td>\n",
       "      <td>no</td>\n",
       "    </tr>\n",
       "    <tr>\n",
       "      <td>2</td>\n",
       "      <td>37</td>\n",
       "      <td>services</td>\n",
       "      <td>married</td>\n",
       "      <td>high.school</td>\n",
       "      <td>no</td>\n",
       "      <td>yes</td>\n",
       "      <td>no</td>\n",
       "      <td>telephone</td>\n",
       "      <td>may</td>\n",
       "      <td>mon</td>\n",
       "      <td>...</td>\n",
       "      <td>1</td>\n",
       "      <td>999</td>\n",
       "      <td>0</td>\n",
       "      <td>nonexistent</td>\n",
       "      <td>1.1</td>\n",
       "      <td>93.994</td>\n",
       "      <td>-36.4</td>\n",
       "      <td>4.857</td>\n",
       "      <td>5191.0</td>\n",
       "      <td>no</td>\n",
       "    </tr>\n",
       "    <tr>\n",
       "      <td>3</td>\n",
       "      <td>40</td>\n",
       "      <td>admin.</td>\n",
       "      <td>married</td>\n",
       "      <td>basic.6y</td>\n",
       "      <td>no</td>\n",
       "      <td>no</td>\n",
       "      <td>no</td>\n",
       "      <td>telephone</td>\n",
       "      <td>may</td>\n",
       "      <td>mon</td>\n",
       "      <td>...</td>\n",
       "      <td>1</td>\n",
       "      <td>999</td>\n",
       "      <td>0</td>\n",
       "      <td>nonexistent</td>\n",
       "      <td>1.1</td>\n",
       "      <td>93.994</td>\n",
       "      <td>-36.4</td>\n",
       "      <td>4.857</td>\n",
       "      <td>5191.0</td>\n",
       "      <td>no</td>\n",
       "    </tr>\n",
       "    <tr>\n",
       "      <td>4</td>\n",
       "      <td>56</td>\n",
       "      <td>services</td>\n",
       "      <td>married</td>\n",
       "      <td>high.school</td>\n",
       "      <td>no</td>\n",
       "      <td>no</td>\n",
       "      <td>yes</td>\n",
       "      <td>telephone</td>\n",
       "      <td>may</td>\n",
       "      <td>mon</td>\n",
       "      <td>...</td>\n",
       "      <td>1</td>\n",
       "      <td>999</td>\n",
       "      <td>0</td>\n",
       "      <td>nonexistent</td>\n",
       "      <td>1.1</td>\n",
       "      <td>93.994</td>\n",
       "      <td>-36.4</td>\n",
       "      <td>4.857</td>\n",
       "      <td>5191.0</td>\n",
       "      <td>no</td>\n",
       "    </tr>\n",
       "  </tbody>\n",
       "</table>\n",
       "<p>5 rows × 21 columns</p>\n",
       "</div>"
      ],
      "text/plain": [
       "   age        job  marital    education  default housing loan    contact  \\\n",
       "0   56  housemaid  married     basic.4y       no      no   no  telephone   \n",
       "1   57   services  married  high.school  unknown      no   no  telephone   \n",
       "2   37   services  married  high.school       no     yes   no  telephone   \n",
       "3   40     admin.  married     basic.6y       no      no   no  telephone   \n",
       "4   56   services  married  high.school       no      no  yes  telephone   \n",
       "\n",
       "  month day_of_week  ...  campaign  pdays  previous     poutcome emp.var.rate  \\\n",
       "0   may         mon  ...         1    999         0  nonexistent          1.1   \n",
       "1   may         mon  ...         1    999         0  nonexistent          1.1   \n",
       "2   may         mon  ...         1    999         0  nonexistent          1.1   \n",
       "3   may         mon  ...         1    999         0  nonexistent          1.1   \n",
       "4   may         mon  ...         1    999         0  nonexistent          1.1   \n",
       "\n",
       "   cons.price.idx  cons.conf.idx  euribor3m  nr.employed   y  \n",
       "0          93.994          -36.4      4.857       5191.0  no  \n",
       "1          93.994          -36.4      4.857       5191.0  no  \n",
       "2          93.994          -36.4      4.857       5191.0  no  \n",
       "3          93.994          -36.4      4.857       5191.0  no  \n",
       "4          93.994          -36.4      4.857       5191.0  no  \n",
       "\n",
       "[5 rows x 21 columns]"
      ]
     },
     "execution_count": 4,
     "metadata": {},
     "output_type": "execute_result"
    }
   ],
   "source": [
    "raw_data.head()"
   ]
  },
  {
   "cell_type": "code",
   "execution_count": 5,
   "metadata": {},
   "outputs": [
    {
     "data": {
      "text/plain": [
       "Index(['age', 'job', 'marital', 'education', 'default', 'housing', 'loan',\n",
       "       'contact', 'month', 'day_of_week', 'duration', 'campaign', 'pdays',\n",
       "       'previous', 'poutcome', 'emp.var.rate', 'cons.price.idx',\n",
       "       'cons.conf.idx', 'euribor3m', 'nr.employed', 'y'],\n",
       "      dtype='object')"
      ]
     },
     "execution_count": 5,
     "metadata": {},
     "output_type": "execute_result"
    }
   ],
   "source": [
    "raw_data.columns"
   ]
  },
  {
   "cell_type": "code",
   "execution_count": 6,
   "metadata": {},
   "outputs": [],
   "source": [
    "#copy the raw data into a new data frame for analysis\n",
    "data=raw_data.copy()"
   ]
  },
  {
   "cell_type": "code",
   "execution_count": 7,
   "metadata": {},
   "outputs": [
    {
     "data": {
      "text/plain": [
       "age               False\n",
       "job               False\n",
       "marital           False\n",
       "education         False\n",
       "default           False\n",
       "housing           False\n",
       "loan              False\n",
       "contact           False\n",
       "month             False\n",
       "day_of_week       False\n",
       "duration          False\n",
       "campaign          False\n",
       "pdays             False\n",
       "previous          False\n",
       "poutcome          False\n",
       "emp.var.rate      False\n",
       "cons.price.idx    False\n",
       "cons.conf.idx     False\n",
       "euribor3m         False\n",
       "nr.employed       False\n",
       "y                 False\n",
       "dtype: bool"
      ]
     },
     "execution_count": 7,
     "metadata": {},
     "output_type": "execute_result"
    }
   ],
   "source": [
    "#check for null values in the data\n",
    "data.count().isnull()"
   ]
  },
  {
   "cell_type": "code",
   "execution_count": 8,
   "metadata": {},
   "outputs": [
    {
     "data": {
      "text/plain": [
       "count    41188.00000\n",
       "mean        40.02406\n",
       "std         10.42125\n",
       "min         17.00000\n",
       "25%         32.00000\n",
       "50%         38.00000\n",
       "75%         47.00000\n",
       "max         98.00000\n",
       "Name: age, dtype: float64"
      ]
     },
     "execution_count": 8,
     "metadata": {},
     "output_type": "execute_result"
    }
   ],
   "source": [
    "#there are no missing values, hence we start analysing each feature.\n",
    "#lets begin with age\n",
    "data[\"age\"].describe()"
   ]
  },
  {
   "cell_type": "code",
   "execution_count": 9,
   "metadata": {},
   "outputs": [
    {
     "data": {
      "text/plain": [
       "31    1947\n",
       "32    1846\n",
       "33    1833\n",
       "36    1780\n",
       "35    1759\n",
       "      ... \n",
       "89       2\n",
       "91       2\n",
       "87       1\n",
       "94       1\n",
       "95       1\n",
       "Name: age, Length: 78, dtype: int64"
      ]
     },
     "execution_count": 9,
     "metadata": {},
     "output_type": "execute_result"
    }
   ],
   "source": [
    "#data[\"age\"].unique()\n",
    "#values with frequency is given by\n",
    "data[\"age\"].value_counts()"
   ]
  },
  {
   "cell_type": "code",
   "execution_count": 10,
   "metadata": {},
   "outputs": [
    {
     "data": {
      "text/plain": [
       "Text(0.5, 1.0, 'Age Count')"
      ]
     },
     "execution_count": 10,
     "metadata": {},
     "output_type": "execute_result"
    },
    {
     "data": {
      "image/png": "[encoded data removed]",
      "text/plain": [
       "<Figure size 1440x720 with 1 Axes>"
      ]
     },
     "metadata": {
      "needs_background": "light"
     },
     "output_type": "display_data"
    }
   ],
   "source": [
    "#lets plot a graph to check how the age is distributed\n",
    "plt.figure(figsize=(20,10))\n",
    "ax = sns.countplot(data[\"age\"])\n",
    "ax.set_xlabel(\"Age\",fontsize=10)\n",
    "ax.set_ylabel(\"Count\",fontsize=10)\n",
    "ax.set_title(\"Age Count\",fontsize=15)"
   ]
  },
  {
   "cell_type": "code",
   "execution_count": 11,
   "metadata": {},
   "outputs": [
    {
     "data": {
      "text/plain": [
       "Text(0.5, 1.0, 'Age Count')"
      ]
     },
     "execution_count": 11,
     "metadata": {},
     "output_type": "execute_result"
    },
    {
     "data": {
      "image/png": "[encoded data removed]",
      "text/plain": [
       "<Figure size 936x432 with 2 Axes>"
      ]
     },
     "metadata": {
      "needs_background": "light"
     },
     "output_type": "display_data"
    }
   ],
   "source": [
    "fig,(ax1,ax2)=plt.subplots(1,2,figsize=(13,6))\n",
    "ax1 = sns.boxplot(data[\"age\"],ax=ax1,orient=\"v\")\n",
    "ax1.set_xlabel(\"Age\",fontsize=10)\n",
    "ax1.set_ylabel(\"Count\",fontsize=10)\n",
    "ax1.set_title(\"Age Count\",fontsize=15)\n",
    "\n",
    "ax2=sns.distplot(data[\"age\"],ax=ax2)\n",
    "ax2.set_xlabel(\"Age\",fontsize=10)\n",
    "ax2.set_ylabel(\"Count\",fontsize=10)\n",
    "ax2.set_title(\"Age Count\",fontsize=15)"
   ]
  },
  {
   "cell_type": "code",
   "execution_count": 12,
   "metadata": {},
   "outputs": [
    {
     "data": {
      "text/plain": [
       "Text(0.5, 1.0, 'Age:DistPlot')"
      ]
     },
     "execution_count": 12,
     "metadata": {},
     "output_type": "execute_result"
    },
    {
     "data": {
      "image/png": "[encoded data removed]",
      "text/plain": [
       "<Figure size 936x360 with 2 Axes>"
      ]
     },
     "metadata": {
      "needs_background": "light"
     },
     "output_type": "display_data"
    }
   ],
   "source": [
    "#Another way where you can plot the graph \n",
    "fig, axs = plt.subplots(1,2,figsize=(13,5))\n",
    "sns.boxplot(x=data['age'],ax=axs[0],orient=\"v\").set_title(\"Age:BOX PLOT\",fontsize=15)\n",
    "sns.distplot(data['age'],ax=axs[1]).set_title(\"Age:DistPlot\",fontsize=15)"
   ]
  },
  {
   "cell_type": "markdown",
   "metadata": {},
   "source": [
    "### From the Graphs, we can see that there are outliers and hence, we can calculate the IQR range and see what percentage of the data are outliers"
   ]
  },
  {
   "cell_type": "code",
   "execution_count": 13,
   "metadata": {},
   "outputs": [],
   "source": [
    "q1=data[\"age\"].quantile(0.25)"
   ]
  },
  {
   "cell_type": "code",
   "execution_count": 14,
   "metadata": {},
   "outputs": [],
   "source": [
    "q3=data[\"age\"].quantile(0.75)"
   ]
  },
  {
   "cell_type": "code",
   "execution_count": 15,
   "metadata": {},
   "outputs": [],
   "source": [
    "IQR=q3-q1\n",
    "upper_q=q3+1.5*IQR"
   ]
  },
  {
   "cell_type": "code",
   "execution_count": 16,
   "metadata": {},
   "outputs": [
    {
     "name": "stdout",
     "output_type": "stream",
     "text": [
      "Ages above 69.5 are outliers\n"
     ]
    }
   ],
   "source": [
    "print(\"Ages above\" ,upper_q, \"are outliers\")"
   ]
  },
  {
   "cell_type": "code",
   "execution_count": 17,
   "metadata": {},
   "outputs": [],
   "source": [
    "#print the number of outlieres\n",
    "no_outliers=data[data['age'] > 69.6]['age'].count()"
   ]
  },
  {
   "cell_type": "code",
   "execution_count": 18,
   "metadata": {},
   "outputs": [
    {
     "name": "stdout",
     "output_type": "stream",
     "text": [
      "1.1386811692726035\n"
     ]
    }
   ],
   "source": [
    "#print outlier percentage\n",
    "print(no_outliers/len(data[\"age\"]) *100)"
   ]
  },
  {
   "cell_type": "code",
   "execution_count": 19,
   "metadata": {},
   "outputs": [
    {
     "name": "stdout",
     "output_type": "stream",
     "text": [
      "Mean= 40.02406040594348 \n",
      "Standard Deviation =  10.421249980934235 \n",
      " CV =  27.767593377413114\n"
     ]
    }
   ],
   "source": [
    "#calculate statistics co-effecient\n",
    "print(\"Mean=\",data[\"age\"].mean(),\n",
    "    \"\\nStandard Deviation = \",data[\"age\"].std(),\n",
    "    \"\\n CV = \",(data[\"age\"].std()/data[\"age\"]).mean()*100) #co-effecien of variaion = std/mean"
   ]
  },
  {
   "cell_type": "markdown",
   "metadata": {},
   "source": [
    "### From the above results we can see that the data is pretty scattered, CV of >10% is highly dispersed.Hence we can try and fit the  data with and without the outlier and check the performance"
   ]
  },
  {
   "cell_type": "code",
   "execution_count": 20,
   "metadata": {},
   "outputs": [
    {
     "data": {
      "text/plain": [
       "Index(['age', 'job', 'marital', 'education', 'default', 'housing', 'loan',\n",
       "       'contact', 'month', 'day_of_week', 'duration', 'campaign', 'pdays',\n",
       "       'previous', 'poutcome', 'emp.var.rate', 'cons.price.idx',\n",
       "       'cons.conf.idx', 'euribor3m', 'nr.employed', 'y'],\n",
       "      dtype='object')"
      ]
     },
     "execution_count": 20,
     "metadata": {},
     "output_type": "execute_result"
    }
   ],
   "source": [
    "#lets go to next feature\n",
    "data.columns"
   ]
  },
  {
   "cell_type": "code",
   "execution_count": 21,
   "metadata": {},
   "outputs": [
    {
     "data": {
      "text/plain": [
       "array(['housemaid', 'services', 'admin.', 'blue-collar', 'technician',\n",
       "       'retired', 'management', 'unemployed', 'self-employed', 'unknown',\n",
       "       'entrepreneur', 'student'], dtype=object)"
      ]
     },
     "execution_count": 21,
     "metadata": {},
     "output_type": "execute_result"
    }
   ],
   "source": [
    "data[\"job\"].unique()"
   ]
  },
  {
   "cell_type": "code",
   "execution_count": 22,
   "metadata": {},
   "outputs": [
    {
     "data": {
      "image/png": "[encoded data removed]",
      "text/plain": [
       "<Figure size 1008x720 with 2 Axes>"
      ]
     },
     "metadata": {
      "needs_background": "light"
     },
     "output_type": "display_data"
    }
   ],
   "source": [
    "fig,axs = plt.subplots(2,1,figsize=(14,10))\n",
    "sns.countplot(data[\"job\"],palette=\"rocket\",ax=axs[0]).set_title(\"Count Plot: JOB\")\n",
    "sns.countplot(data[\"job\"],hue=\"y\",data=data,palette=\"rocket\",ax=axs[1]).set_title(\"2:Count Plot: JOB\")\n",
    "plt.legend(loc='upper right', frameon=False)\n",
    "plt.subplots_adjust(hspace =0.7)"
   ]
  },
  {
   "cell_type": "code",
   "execution_count": 23,
   "metadata": {},
   "outputs": [
    {
     "data": {
      "text/html": [
       "<div>\n",
       "<style scoped>\n",
       "    .dataframe tbody tr th:only-of-type {\n",
       "        vertical-align: middle;\n",
       "    }\n",
       "\n",
       "    .dataframe tbody tr th {\n",
       "        vertical-align: top;\n",
       "    }\n",
       "\n",
       "    .dataframe thead th {\n",
       "        text-align: right;\n",
       "    }\n",
       "</style>\n",
       "<table border=\"1\" class=\"dataframe\">\n",
       "  <thead>\n",
       "    <tr style=\"text-align: right;\">\n",
       "      <th>y</th>\n",
       "      <th>no</th>\n",
       "      <th>yes</th>\n",
       "    </tr>\n",
       "    <tr>\n",
       "      <th>job</th>\n",
       "      <th></th>\n",
       "      <th></th>\n",
       "    </tr>\n",
       "  </thead>\n",
       "  <tbody>\n",
       "    <tr>\n",
       "      <td>admin.</td>\n",
       "      <td>9070</td>\n",
       "      <td>1352</td>\n",
       "    </tr>\n",
       "    <tr>\n",
       "      <td>blue-collar</td>\n",
       "      <td>8616</td>\n",
       "      <td>638</td>\n",
       "    </tr>\n",
       "    <tr>\n",
       "      <td>entrepreneur</td>\n",
       "      <td>1332</td>\n",
       "      <td>124</td>\n",
       "    </tr>\n",
       "    <tr>\n",
       "      <td>housemaid</td>\n",
       "      <td>954</td>\n",
       "      <td>106</td>\n",
       "    </tr>\n",
       "    <tr>\n",
       "      <td>management</td>\n",
       "      <td>2596</td>\n",
       "      <td>328</td>\n",
       "    </tr>\n",
       "    <tr>\n",
       "      <td>retired</td>\n",
       "      <td>1286</td>\n",
       "      <td>434</td>\n",
       "    </tr>\n",
       "    <tr>\n",
       "      <td>self-employed</td>\n",
       "      <td>1272</td>\n",
       "      <td>149</td>\n",
       "    </tr>\n",
       "    <tr>\n",
       "      <td>services</td>\n",
       "      <td>3646</td>\n",
       "      <td>323</td>\n",
       "    </tr>\n",
       "    <tr>\n",
       "      <td>student</td>\n",
       "      <td>600</td>\n",
       "      <td>275</td>\n",
       "    </tr>\n",
       "    <tr>\n",
       "      <td>technician</td>\n",
       "      <td>6013</td>\n",
       "      <td>730</td>\n",
       "    </tr>\n",
       "    <tr>\n",
       "      <td>unemployed</td>\n",
       "      <td>870</td>\n",
       "      <td>144</td>\n",
       "    </tr>\n",
       "    <tr>\n",
       "      <td>unknown</td>\n",
       "      <td>293</td>\n",
       "      <td>37</td>\n",
       "    </tr>\n",
       "  </tbody>\n",
       "</table>\n",
       "</div>"
      ],
      "text/plain": [
       "y                no   yes\n",
       "job                      \n",
       "admin.         9070  1352\n",
       "blue-collar    8616   638\n",
       "entrepreneur   1332   124\n",
       "housemaid       954   106\n",
       "management     2596   328\n",
       "retired        1286   434\n",
       "self-employed  1272   149\n",
       "services       3646   323\n",
       "student         600   275\n",
       "technician     6013   730\n",
       "unemployed      870   144\n",
       "unknown         293    37"
      ]
     },
     "execution_count": 23,
     "metadata": {},
     "output_type": "execute_result"
    }
   ],
   "source": [
    "data.groupby([\"job\"]).y.value_counts().unstack()"
   ]
  },
  {
   "cell_type": "markdown",
   "metadata": {},
   "source": [
    "#### From the above graphs and the data, we can see that most of the calls were made to people with admin,technicians and blue collar jobs,and also we can see that the number of technicians who subscribed were almost equal to people with blue collar jobs eventhough there were 2000 calls less made to them.\n"
   ]
  },
  {
   "cell_type": "code",
   "execution_count": 24,
   "metadata": {},
   "outputs": [
    {
     "data": {
      "text/plain": [
       "array(['married', 'single', 'divorced', 'unknown'], dtype=object)"
      ]
     },
     "execution_count": 24,
     "metadata": {},
     "output_type": "execute_result"
    }
   ],
   "source": [
    "#data.columns\n",
    "data[\"marital\"].unique()"
   ]
  },
  {
   "cell_type": "code",
   "execution_count": 25,
   "metadata": {},
   "outputs": [
    {
     "data": {
      "image/png": "[encoded data removed]",
      "text/plain": [
       "<Figure size 1080x360 with 3 Axes>"
      ]
     },
     "metadata": {
      "needs_background": "light"
     },
     "output_type": "display_data"
    }
   ],
   "source": [
    "fig,axs = plt.subplots(1,3,figsize=(15,5))\n",
    "sns.countplot(data[\"marital\"],palette=\"rocket\",ax=axs[0]).set_title(\"CountPlot: Marital\")\n",
    "sns.countplot(data[\"marital\"],hue=\"job\",data=data,palette=\"rocket\",ax=axs[1]).set_title(\"Countplot:Job vs Marital\")\n",
    "sns.countplot(data[\"marital\"],hue=\"y\",palette= \"rocket\",data=data,ax=axs[2])\n",
    "plt.subplots_adjust(hspace =0.7)"
   ]
  },
  {
   "cell_type": "code",
   "execution_count": 26,
   "metadata": {},
   "outputs": [
    {
     "data": {
      "text/html": [
       "<div>\n",
       "<style scoped>\n",
       "    .dataframe tbody tr th:only-of-type {\n",
       "        vertical-align: middle;\n",
       "    }\n",
       "\n",
       "    .dataframe tbody tr th {\n",
       "        vertical-align: top;\n",
       "    }\n",
       "\n",
       "    .dataframe thead th {\n",
       "        text-align: right;\n",
       "    }\n",
       "</style>\n",
       "<table border=\"1\" class=\"dataframe\">\n",
       "  <thead>\n",
       "    <tr style=\"text-align: right;\">\n",
       "      <th>y</th>\n",
       "      <th>no</th>\n",
       "      <th>yes</th>\n",
       "    </tr>\n",
       "    <tr>\n",
       "      <th>marital</th>\n",
       "      <th></th>\n",
       "      <th></th>\n",
       "    </tr>\n",
       "  </thead>\n",
       "  <tbody>\n",
       "    <tr>\n",
       "      <td>divorced</td>\n",
       "      <td>4136</td>\n",
       "      <td>476</td>\n",
       "    </tr>\n",
       "    <tr>\n",
       "      <td>married</td>\n",
       "      <td>22396</td>\n",
       "      <td>2532</td>\n",
       "    </tr>\n",
       "    <tr>\n",
       "      <td>single</td>\n",
       "      <td>9948</td>\n",
       "      <td>1620</td>\n",
       "    </tr>\n",
       "    <tr>\n",
       "      <td>unknown</td>\n",
       "      <td>68</td>\n",
       "      <td>12</td>\n",
       "    </tr>\n",
       "  </tbody>\n",
       "</table>\n",
       "</div>"
      ],
      "text/plain": [
       "y            no   yes\n",
       "marital              \n",
       "divorced   4136   476\n",
       "married   22396  2532\n",
       "single     9948  1620\n",
       "unknown      68    12"
      ]
     },
     "execution_count": 26,
     "metadata": {},
     "output_type": "execute_result"
    }
   ],
   "source": [
    "data.groupby([\"marital\"]).y.value_counts().unstack()"
   ]
  },
  {
   "cell_type": "code",
   "execution_count": 27,
   "metadata": {},
   "outputs": [
    {
     "data": {
      "text/plain": [
       "'chart=sns.catplot(x=\"job\", y=\"age\",col=\"marital\",hue=\"y\",data=data,palette=\"rocket\",height=8,kind=\"bar\", aspect=1)\\nchart.set_xticklabels(rotation=45) \\nsns.catplot(x=\"job\",y=\"age\",hue=\"marital\",col=\"y\",data=data,palette=\"rocket\") '"
      ]
     },
     "execution_count": 27,
     "metadata": {},
     "output_type": "execute_result"
    }
   ],
   "source": [
    "#For futher analysis you can check these charts\n",
    "\"\"\"chart=sns.catplot(x=\"job\", y=\"age\",col=\"marital\",hue=\"y\",data=data,palette=\"rocket\",height=8,kind=\"bar\", aspect=1)\n",
    "chart.set_xticklabels(rotation=45) \n",
    "sns.catplot(x=\"job\",y=\"age\",hue=\"marital\",col=\"y\",data=data,palette=\"rocket\") \"\"\"\n",
    "#double click to enlarge"
   ]
  },
  {
   "cell_type": "markdown",
   "metadata": {},
   "source": [
    "#### From the above graphs and data, we can conclude that most of thec calls were made to married people with a subscription rate of 10.15% and eventhough the calls made to single people were half of that to married people, the subscription rate was 14%."
   ]
  },
  {
   "cell_type": "code",
   "execution_count": 28,
   "metadata": {},
   "outputs": [
    {
     "data": {
      "text/plain": [
       "array(['basic.4y', 'high.school', 'basic.6y', 'basic.9y',\n",
       "       'professional.course', 'unknown', 'university.degree',\n",
       "       'illiterate'], dtype=object)"
      ]
     },
     "execution_count": 28,
     "metadata": {},
     "output_type": "execute_result"
    }
   ],
   "source": [
    "data[\"education\"].unique()"
   ]
  },
  {
   "cell_type": "code",
   "execution_count": 29,
   "metadata": {},
   "outputs": [
    {
     "data": {
      "text/plain": [
       "[Text(0, 0, 'basic.4y'),\n",
       " Text(0, 0, 'high.school'),\n",
       " Text(0, 0, 'basic.6y'),\n",
       " Text(0, 0, 'basic.9y'),\n",
       " Text(0, 0, 'professional.course'),\n",
       " Text(0, 0, 'unknown'),\n",
       " Text(0, 0, 'university.degree'),\n",
       " Text(0, 0, 'illiterate')]"
      ]
     },
     "execution_count": 29,
     "metadata": {},
     "output_type": "execute_result"
    },
    {
     "data": {
      "image/png": "[encoded data removed]",
      "text/plain": [
       "<Figure size 432x288 with 1 Axes>"
      ]
     },
     "metadata": {
      "needs_background": "light"
     },
     "output_type": "display_data"
    }
   ],
   "source": [
    "chart=sns.countplot(x=data[\"education\"],hue=\"y\",data=data,palette=\"rocket\")\n",
    "chart.set_xticklabels(chart.get_xticklabels(),rotation=30,fontsize=8)"
   ]
  },
  {
   "cell_type": "code",
   "execution_count": 30,
   "metadata": {},
   "outputs": [
    {
     "data": {
      "text/plain": [
       "<seaborn.axisgrid.FacetGrid at 0x1c091526588>"
      ]
     },
     "execution_count": 30,
     "metadata": {},
     "output_type": "execute_result"
    },
    {
     "data": {
      "text/plain": [
       "<Figure size 2880x216 with 0 Axes>"
      ]
     },
     "metadata": {},
     "output_type": "display_data"
    },
    {
     "data": {
      "image/png": "[encoded data removed]",
      "text/plain": [
       "<Figure size 1899.8x288 with 8 Axes>"
      ]
     },
     "metadata": {
      "needs_background": "light"
     },
     "output_type": "display_data"
    }
   ],
   "source": [
    "plt.figure(figsize=(40,3))\n",
    "chart_ed = sns.catplot(x=\"job\", hue=\"y\", col=\"education\",data=data, kind=\"count\",height=4, aspect=.8)\n",
    "chart_ed.set_xticklabels(rotation=45, horizontalalignment='right',fontsize=8)"
   ]
  },
  {
   "cell_type": "code",
   "execution_count": 31,
   "metadata": {},
   "outputs": [
    {
     "data": {
      "text/html": [
       "<div>\n",
       "<style scoped>\n",
       "    .dataframe tbody tr th:only-of-type {\n",
       "        vertical-align: middle;\n",
       "    }\n",
       "\n",
       "    .dataframe tbody tr th {\n",
       "        vertical-align: top;\n",
       "    }\n",
       "\n",
       "    .dataframe thead th {\n",
       "        text-align: right;\n",
       "    }\n",
       "</style>\n",
       "<table border=\"1\" class=\"dataframe\">\n",
       "  <thead>\n",
       "    <tr style=\"text-align: right;\">\n",
       "      <th>y</th>\n",
       "      <th>no</th>\n",
       "      <th>yes</th>\n",
       "    </tr>\n",
       "    <tr>\n",
       "      <th>education</th>\n",
       "      <th></th>\n",
       "      <th></th>\n",
       "    </tr>\n",
       "  </thead>\n",
       "  <tbody>\n",
       "    <tr>\n",
       "      <td>basic.4y</td>\n",
       "      <td>3748</td>\n",
       "      <td>428</td>\n",
       "    </tr>\n",
       "    <tr>\n",
       "      <td>basic.6y</td>\n",
       "      <td>2104</td>\n",
       "      <td>188</td>\n",
       "    </tr>\n",
       "    <tr>\n",
       "      <td>basic.9y</td>\n",
       "      <td>5572</td>\n",
       "      <td>473</td>\n",
       "    </tr>\n",
       "    <tr>\n",
       "      <td>high.school</td>\n",
       "      <td>8484</td>\n",
       "      <td>1031</td>\n",
       "    </tr>\n",
       "    <tr>\n",
       "      <td>illiterate</td>\n",
       "      <td>14</td>\n",
       "      <td>4</td>\n",
       "    </tr>\n",
       "    <tr>\n",
       "      <td>professional.course</td>\n",
       "      <td>4648</td>\n",
       "      <td>595</td>\n",
       "    </tr>\n",
       "    <tr>\n",
       "      <td>university.degree</td>\n",
       "      <td>10498</td>\n",
       "      <td>1670</td>\n",
       "    </tr>\n",
       "    <tr>\n",
       "      <td>unknown</td>\n",
       "      <td>1480</td>\n",
       "      <td>251</td>\n",
       "    </tr>\n",
       "  </tbody>\n",
       "</table>\n",
       "</div>"
      ],
      "text/plain": [
       "y                       no   yes\n",
       "education                       \n",
       "basic.4y              3748   428\n",
       "basic.6y              2104   188\n",
       "basic.9y              5572   473\n",
       "high.school           8484  1031\n",
       "illiterate              14     4\n",
       "professional.course   4648   595\n",
       "university.degree    10498  1670\n",
       "unknown               1480   251"
      ]
     },
     "execution_count": 31,
     "metadata": {},
     "output_type": "execute_result"
    }
   ],
   "source": [
    "#data=raw_data.copy()\n",
    "data.groupby([\"education\"]).y.value_counts().unstack()"
   ]
  },
  {
   "cell_type": "markdown",
   "metadata": {},
   "source": [
    "#### From the above stats and graphs we can see that most of the calls were made to people with basi.9y,highschool degree and university degree and most of the subscribers were also from the same people"
   ]
  },
  {
   "cell_type": "code",
   "execution_count": 32,
   "metadata": {},
   "outputs": [
    {
     "data": {
      "text/plain": [
       "Index(['age', 'job', 'marital', 'education', 'default', 'housing', 'loan',\n",
       "       'contact', 'month', 'day_of_week', 'duration', 'campaign', 'pdays',\n",
       "       'previous', 'poutcome', 'emp.var.rate', 'cons.price.idx',\n",
       "       'cons.conf.idx', 'euribor3m', 'nr.employed', 'y'],\n",
       "      dtype='object')"
      ]
     },
     "execution_count": 32,
     "metadata": {},
     "output_type": "execute_result"
    }
   ],
   "source": [
    "data.columns"
   ]
  },
  {
   "cell_type": "code",
   "execution_count": 33,
   "metadata": {},
   "outputs": [
    {
     "data": {
      "text/plain": [
       "<matplotlib.axes._subplots.AxesSubplot at 0x1c0924d3348>"
      ]
     },
     "execution_count": 33,
     "metadata": {},
     "output_type": "execute_result"
    },
    {
     "data": {
      "image/png": "[encoded data removed]",
      "text/plain": [
       "<Figure size 432x288 with 1 Axes>"
      ]
     },
     "metadata": {
      "needs_background": "light"
     },
     "output_type": "display_data"
    }
   ],
   "source": [
    "sns.countplot(data[\"default\"],hue=\"education\",data=data,palette=\"rocket\")"
   ]
  },
  {
   "cell_type": "code",
   "execution_count": 34,
   "metadata": {},
   "outputs": [
    {
     "data": {
      "text/html": [
       "<div>\n",
       "<style scoped>\n",
       "    .dataframe tbody tr th:only-of-type {\n",
       "        vertical-align: middle;\n",
       "    }\n",
       "\n",
       "    .dataframe tbody tr th {\n",
       "        vertical-align: top;\n",
       "    }\n",
       "\n",
       "    .dataframe thead th {\n",
       "        text-align: right;\n",
       "    }\n",
       "</style>\n",
       "<table border=\"1\" class=\"dataframe\">\n",
       "  <thead>\n",
       "    <tr style=\"text-align: right;\">\n",
       "      <th></th>\n",
       "      <th>y</th>\n",
       "      <th>no</th>\n",
       "      <th>yes</th>\n",
       "    </tr>\n",
       "    <tr>\n",
       "      <th>default</th>\n",
       "      <th>job</th>\n",
       "      <th></th>\n",
       "      <th></th>\n",
       "    </tr>\n",
       "  </thead>\n",
       "  <tbody>\n",
       "    <tr>\n",
       "      <td rowspan=\"12\" valign=\"top\">no</td>\n",
       "      <td>admin.</td>\n",
       "      <td>7846.0</td>\n",
       "      <td>1283.0</td>\n",
       "    </tr>\n",
       "    <tr>\n",
       "      <td>blue-collar</td>\n",
       "      <td>5602.0</td>\n",
       "      <td>486.0</td>\n",
       "    </tr>\n",
       "    <tr>\n",
       "      <td>entrepreneur</td>\n",
       "      <td>1049.0</td>\n",
       "      <td>106.0</td>\n",
       "    </tr>\n",
       "    <tr>\n",
       "      <td>housemaid</td>\n",
       "      <td>647.0</td>\n",
       "      <td>94.0</td>\n",
       "    </tr>\n",
       "    <tr>\n",
       "      <td>management</td>\n",
       "      <td>2158.0</td>\n",
       "      <td>308.0</td>\n",
       "    </tr>\n",
       "    <tr>\n",
       "      <td>retired</td>\n",
       "      <td>933.0</td>\n",
       "      <td>394.0</td>\n",
       "    </tr>\n",
       "    <tr>\n",
       "      <td>self-employed</td>\n",
       "      <td>1004.0</td>\n",
       "      <td>135.0</td>\n",
       "    </tr>\n",
       "    <tr>\n",
       "      <td>services</td>\n",
       "      <td>2774.0</td>\n",
       "      <td>279.0</td>\n",
       "    </tr>\n",
       "    <tr>\n",
       "      <td>student</td>\n",
       "      <td>504.0</td>\n",
       "      <td>267.0</td>\n",
       "    </tr>\n",
       "    <tr>\n",
       "      <td>technician</td>\n",
       "      <td>5080.0</td>\n",
       "      <td>685.0</td>\n",
       "    </tr>\n",
       "    <tr>\n",
       "      <td>unemployed</td>\n",
       "      <td>646.0</td>\n",
       "      <td>130.0</td>\n",
       "    </tr>\n",
       "    <tr>\n",
       "      <td>unknown</td>\n",
       "      <td>148.0</td>\n",
       "      <td>30.0</td>\n",
       "    </tr>\n",
       "    <tr>\n",
       "      <td rowspan=\"12\" valign=\"top\">unknown</td>\n",
       "      <td>admin.</td>\n",
       "      <td>1224.0</td>\n",
       "      <td>69.0</td>\n",
       "    </tr>\n",
       "    <tr>\n",
       "      <td>blue-collar</td>\n",
       "      <td>3014.0</td>\n",
       "      <td>152.0</td>\n",
       "    </tr>\n",
       "    <tr>\n",
       "      <td>entrepreneur</td>\n",
       "      <td>283.0</td>\n",
       "      <td>18.0</td>\n",
       "    </tr>\n",
       "    <tr>\n",
       "      <td>housemaid</td>\n",
       "      <td>307.0</td>\n",
       "      <td>12.0</td>\n",
       "    </tr>\n",
       "    <tr>\n",
       "      <td>management</td>\n",
       "      <td>438.0</td>\n",
       "      <td>20.0</td>\n",
       "    </tr>\n",
       "    <tr>\n",
       "      <td>retired</td>\n",
       "      <td>353.0</td>\n",
       "      <td>40.0</td>\n",
       "    </tr>\n",
       "    <tr>\n",
       "      <td>self-employed</td>\n",
       "      <td>268.0</td>\n",
       "      <td>14.0</td>\n",
       "    </tr>\n",
       "    <tr>\n",
       "      <td>services</td>\n",
       "      <td>872.0</td>\n",
       "      <td>44.0</td>\n",
       "    </tr>\n",
       "    <tr>\n",
       "      <td>student</td>\n",
       "      <td>96.0</td>\n",
       "      <td>8.0</td>\n",
       "    </tr>\n",
       "    <tr>\n",
       "      <td>technician</td>\n",
       "      <td>931.0</td>\n",
       "      <td>45.0</td>\n",
       "    </tr>\n",
       "    <tr>\n",
       "      <td>unemployed</td>\n",
       "      <td>223.0</td>\n",
       "      <td>14.0</td>\n",
       "    </tr>\n",
       "    <tr>\n",
       "      <td>unknown</td>\n",
       "      <td>145.0</td>\n",
       "      <td>7.0</td>\n",
       "    </tr>\n",
       "    <tr>\n",
       "      <td rowspan=\"2\" valign=\"top\">yes</td>\n",
       "      <td>technician</td>\n",
       "      <td>2.0</td>\n",
       "      <td>NaN</td>\n",
       "    </tr>\n",
       "    <tr>\n",
       "      <td>unemployed</td>\n",
       "      <td>1.0</td>\n",
       "      <td>NaN</td>\n",
       "    </tr>\n",
       "  </tbody>\n",
       "</table>\n",
       "</div>"
      ],
      "text/plain": [
       "y                          no     yes\n",
       "default job                          \n",
       "no      admin.         7846.0  1283.0\n",
       "        blue-collar    5602.0   486.0\n",
       "        entrepreneur   1049.0   106.0\n",
       "        housemaid       647.0    94.0\n",
       "        management     2158.0   308.0\n",
       "        retired         933.0   394.0\n",
       "        self-employed  1004.0   135.0\n",
       "        services       2774.0   279.0\n",
       "        student         504.0   267.0\n",
       "        technician     5080.0   685.0\n",
       "        unemployed      646.0   130.0\n",
       "        unknown         148.0    30.0\n",
       "unknown admin.         1224.0    69.0\n",
       "        blue-collar    3014.0   152.0\n",
       "        entrepreneur    283.0    18.0\n",
       "        housemaid       307.0    12.0\n",
       "        management      438.0    20.0\n",
       "        retired         353.0    40.0\n",
       "        self-employed   268.0    14.0\n",
       "        services        872.0    44.0\n",
       "        student          96.0     8.0\n",
       "        technician      931.0    45.0\n",
       "        unemployed      223.0    14.0\n",
       "        unknown         145.0     7.0\n",
       "yes     technician        2.0     NaN\n",
       "        unemployed        1.0     NaN"
      ]
     },
     "execution_count": 34,
     "metadata": {},
     "output_type": "execute_result"
    }
   ],
   "source": [
    "data.groupby([\"default\",\"job\"]).y.value_counts().unstack()"
   ]
  },
  {
   "cell_type": "code",
   "execution_count": 35,
   "metadata": {},
   "outputs": [
    {
     "data": {
      "text/plain": [
       "no         32588\n",
       "unknown     8597\n",
       "yes            3\n",
       "Name: default, dtype: int64"
      ]
     },
     "execution_count": 35,
     "metadata": {},
     "output_type": "execute_result"
    }
   ],
   "source": [
    "data[\"default\"].value_counts()"
   ]
  },
  {
   "cell_type": "markdown",
   "metadata": {},
   "source": [
    "##### From the above stats we can see that most of the people have no defaults,20% of them have unknown default and only 3 of them do have dafaults who's occupation is technician and unemployed."
   ]
  },
  {
   "cell_type": "code",
   "execution_count": 36,
   "metadata": {},
   "outputs": [
    {
     "data": {
      "text/plain": [
       "Index(['age', 'job', 'marital', 'education', 'default', 'housing', 'loan',\n",
       "       'contact', 'month', 'day_of_week', 'duration', 'campaign', 'pdays',\n",
       "       'previous', 'poutcome', 'emp.var.rate', 'cons.price.idx',\n",
       "       'cons.conf.idx', 'euribor3m', 'nr.employed', 'y'],\n",
       "      dtype='object')"
      ]
     },
     "execution_count": 36,
     "metadata": {},
     "output_type": "execute_result"
    }
   ],
   "source": [
    "data.columns"
   ]
  },
  {
   "cell_type": "code",
   "execution_count": 37,
   "metadata": {},
   "outputs": [
    {
     "data": {
      "text/plain": [
       "array(['telephone', 'cellular'], dtype=object)"
      ]
     },
     "execution_count": 37,
     "metadata": {},
     "output_type": "execute_result"
    }
   ],
   "source": [
    "data[\"contact\"].unique()"
   ]
  },
  {
   "cell_type": "code",
   "execution_count": 38,
   "metadata": {},
   "outputs": [],
   "source": [
    "sub_con=data.groupby([\"contact\"]).y.value_counts(sort=False).unstack()"
   ]
  },
  {
   "cell_type": "code",
   "execution_count": 39,
   "metadata": {},
   "outputs": [
    {
     "data": {
      "image/png": "[encoded data removed]",
      "text/plain": [
       "<Figure size 720x432 with 1 Axes>"
      ]
     },
     "metadata": {
      "needs_background": "light"
     },
     "output_type": "display_data"
    }
   ],
   "source": [
    "plt.figure(figsize=(10,6))\n",
    "g=sns.countplot(data[\"contact\"],hue=\"job\",data=data,palette=\"rocket\")"
   ]
  },
  {
   "cell_type": "code",
   "execution_count": 40,
   "metadata": {},
   "outputs": [
    {
     "data": {
      "text/html": [
       "<div>\n",
       "<style scoped>\n",
       "    .dataframe tbody tr th:only-of-type {\n",
       "        vertical-align: middle;\n",
       "    }\n",
       "\n",
       "    .dataframe tbody tr th {\n",
       "        vertical-align: top;\n",
       "    }\n",
       "\n",
       "    .dataframe thead th {\n",
       "        text-align: right;\n",
       "    }\n",
       "</style>\n",
       "<table border=\"1\" class=\"dataframe\">\n",
       "  <thead>\n",
       "    <tr style=\"text-align: right;\">\n",
       "      <th>y</th>\n",
       "      <th>no</th>\n",
       "      <th>yes</th>\n",
       "      <th>Sub_rate</th>\n",
       "    </tr>\n",
       "    <tr>\n",
       "      <th>contact</th>\n",
       "      <th></th>\n",
       "      <th></th>\n",
       "      <th></th>\n",
       "    </tr>\n",
       "  </thead>\n",
       "  <tbody>\n",
       "    <tr>\n",
       "      <td>cellular</td>\n",
       "      <td>22291</td>\n",
       "      <td>3853</td>\n",
       "      <td>14.737607</td>\n",
       "    </tr>\n",
       "    <tr>\n",
       "      <td>telephone</td>\n",
       "      <td>14257</td>\n",
       "      <td>787</td>\n",
       "      <td>5.231321</td>\n",
       "    </tr>\n",
       "  </tbody>\n",
       "</table>\n",
       "</div>"
      ],
      "text/plain": [
       "y             no   yes   Sub_rate\n",
       "contact                          \n",
       "cellular   22291  3853  14.737607\n",
       "telephone  14257   787   5.231321"
      ]
     },
     "execution_count": 40,
     "metadata": {},
     "output_type": "execute_result"
    }
   ],
   "source": [
    "sub_con[\"Sub_rate\"]=sub_con[\"yes\"]/(sub_con[\"no\"]+ sub_con[\"yes\"]) *100\n",
    "sub_con"
   ]
  },
  {
   "cell_type": "markdown",
   "metadata": {},
   "source": [
    "### From the above data we can conclude that mose tof the people had cellphones, with housemaids topping the list and the sunscription rate of people with cellular phones were more than the ones who telephone."
   ]
  },
  {
   "cell_type": "code",
   "execution_count": 41,
   "metadata": {},
   "outputs": [
    {
     "data": {
      "text/plain": [
       "Index(['age', 'job', 'marital', 'education', 'default', 'housing', 'loan',\n",
       "       'contact', 'month', 'day_of_week', 'duration', 'campaign', 'pdays',\n",
       "       'previous', 'poutcome', 'emp.var.rate', 'cons.price.idx',\n",
       "       'cons.conf.idx', 'euribor3m', 'nr.employed', 'y'],\n",
       "      dtype='object')"
      ]
     },
     "execution_count": 41,
     "metadata": {},
     "output_type": "execute_result"
    }
   ],
   "source": [
    "data.columns"
   ]
  },
  {
   "cell_type": "code",
   "execution_count": 42,
   "metadata": {},
   "outputs": [
    {
     "data": {
      "text/plain": [
       "<matplotlib.axes._subplots.AxesSubplot at 0x1c09218c648>"
      ]
     },
     "execution_count": 42,
     "metadata": {},
     "output_type": "execute_result"
    },
    {
     "data": {
      "image/png": "[encoded data removed]",
      "text/plain": [
       "<Figure size 936x360 with 2 Axes>"
      ]
     },
     "metadata": {
      "needs_background": "light"
     },
     "output_type": "display_data"
    }
   ],
   "source": [
    "fig,axs = plt.subplots(2,1,figsize=(13,5))\n",
    "sns.countplot(data[\"month\"],hue=\"y\",data=data,palette=\"rocket\",ax=axs[0])\n",
    "sns.countplot(data[\"day_of_week\"],hue=\"y\",data=data,palette=\"rocket\",ax=axs[1])"
   ]
  },
  {
   "cell_type": "code",
   "execution_count": 43,
   "metadata": {},
   "outputs": [],
   "source": [
    "df_day=pd.DataFrame(data.groupby([\"month\",\"day_of_week\"]).y.value_counts().unstack())"
   ]
  },
  {
   "cell_type": "code",
   "execution_count": 44,
   "metadata": {},
   "outputs": [],
   "source": [
    "df_day=df_day.add_suffix('_count').reset_index()"
   ]
  },
  {
   "cell_type": "code",
   "execution_count": 45,
   "metadata": {},
   "outputs": [
    {
     "data": {
      "text/plain": [
       "Index(['month', 'day_of_week', 'no_count', 'yes_count'], dtype='object', name='y')"
      ]
     },
     "execution_count": 45,
     "metadata": {},
     "output_type": "execute_result"
    }
   ],
   "source": [
    "df_day.columns"
   ]
  },
  {
   "cell_type": "code",
   "execution_count": 46,
   "metadata": {},
   "outputs": [],
   "source": [
    "df_day[\"sub_rate\"]=df_day[\"yes_count\"]/(df_day[\"yes_count\"]+ df_day[\"no_count\"]) *100"
   ]
  },
  {
   "cell_type": "code",
   "execution_count": 47,
   "metadata": {},
   "outputs": [
    {
     "data": {
      "text/html": [
       "<div>\n",
       "<style scoped>\n",
       "    .dataframe tbody tr th:only-of-type {\n",
       "        vertical-align: middle;\n",
       "    }\n",
       "\n",
       "    .dataframe tbody tr th {\n",
       "        vertical-align: top;\n",
       "    }\n",
       "\n",
       "    .dataframe thead th {\n",
       "        text-align: right;\n",
       "    }\n",
       "</style>\n",
       "<table border=\"1\" class=\"dataframe\">\n",
       "  <thead>\n",
       "    <tr style=\"text-align: right;\">\n",
       "      <th>y</th>\n",
       "      <th>month</th>\n",
       "      <th>day_of_week</th>\n",
       "      <th>no_count</th>\n",
       "      <th>yes_count</th>\n",
       "      <th>sub_rate</th>\n",
       "    </tr>\n",
       "  </thead>\n",
       "  <tbody>\n",
       "    <tr>\n",
       "      <td>0</td>\n",
       "      <td>apr</td>\n",
       "      <td>fri</td>\n",
       "      <td>548</td>\n",
       "      <td>62</td>\n",
       "      <td>10.163934</td>\n",
       "    </tr>\n",
       "    <tr>\n",
       "      <td>1</td>\n",
       "      <td>apr</td>\n",
       "      <td>mon</td>\n",
       "      <td>625</td>\n",
       "      <td>77</td>\n",
       "      <td>10.968661</td>\n",
       "    </tr>\n",
       "    <tr>\n",
       "      <td>2</td>\n",
       "      <td>apr</td>\n",
       "      <td>thu</td>\n",
       "      <td>538</td>\n",
       "      <td>230</td>\n",
       "      <td>29.947917</td>\n",
       "    </tr>\n",
       "    <tr>\n",
       "      <td>3</td>\n",
       "      <td>apr</td>\n",
       "      <td>tue</td>\n",
       "      <td>171</td>\n",
       "      <td>81</td>\n",
       "      <td>32.142857</td>\n",
       "    </tr>\n",
       "    <tr>\n",
       "      <td>4</td>\n",
       "      <td>apr</td>\n",
       "      <td>wed</td>\n",
       "      <td>211</td>\n",
       "      <td>89</td>\n",
       "      <td>29.666667</td>\n",
       "    </tr>\n",
       "    <tr>\n",
       "      <td>5</td>\n",
       "      <td>aug</td>\n",
       "      <td>fri</td>\n",
       "      <td>948</td>\n",
       "      <td>122</td>\n",
       "      <td>11.401869</td>\n",
       "    </tr>\n",
       "    <tr>\n",
       "      <td>6</td>\n",
       "      <td>aug</td>\n",
       "      <td>mon</td>\n",
       "      <td>1115</td>\n",
       "      <td>107</td>\n",
       "      <td>8.756137</td>\n",
       "    </tr>\n",
       "    <tr>\n",
       "      <td>7</td>\n",
       "      <td>aug</td>\n",
       "      <td>thu</td>\n",
       "      <td>1216</td>\n",
       "      <td>131</td>\n",
       "      <td>9.725316</td>\n",
       "    </tr>\n",
       "    <tr>\n",
       "      <td>8</td>\n",
       "      <td>aug</td>\n",
       "      <td>tue</td>\n",
       "      <td>1148</td>\n",
       "      <td>148</td>\n",
       "      <td>11.419753</td>\n",
       "    </tr>\n",
       "    <tr>\n",
       "      <td>9</td>\n",
       "      <td>aug</td>\n",
       "      <td>wed</td>\n",
       "      <td>1096</td>\n",
       "      <td>147</td>\n",
       "      <td>11.826227</td>\n",
       "    </tr>\n",
       "    <tr>\n",
       "      <td>10</td>\n",
       "      <td>dec</td>\n",
       "      <td>fri</td>\n",
       "      <td>15</td>\n",
       "      <td>9</td>\n",
       "      <td>37.500000</td>\n",
       "    </tr>\n",
       "    <tr>\n",
       "      <td>11</td>\n",
       "      <td>dec</td>\n",
       "      <td>mon</td>\n",
       "      <td>30</td>\n",
       "      <td>23</td>\n",
       "      <td>43.396226</td>\n",
       "    </tr>\n",
       "    <tr>\n",
       "      <td>12</td>\n",
       "      <td>dec</td>\n",
       "      <td>thu</td>\n",
       "      <td>24</td>\n",
       "      <td>21</td>\n",
       "      <td>46.666667</td>\n",
       "    </tr>\n",
       "    <tr>\n",
       "      <td>13</td>\n",
       "      <td>dec</td>\n",
       "      <td>tue</td>\n",
       "      <td>10</td>\n",
       "      <td>15</td>\n",
       "      <td>60.000000</td>\n",
       "    </tr>\n",
       "    <tr>\n",
       "      <td>14</td>\n",
       "      <td>dec</td>\n",
       "      <td>wed</td>\n",
       "      <td>14</td>\n",
       "      <td>21</td>\n",
       "      <td>60.000000</td>\n",
       "    </tr>\n",
       "    <tr>\n",
       "      <td>15</td>\n",
       "      <td>jul</td>\n",
       "      <td>fri</td>\n",
       "      <td>894</td>\n",
       "      <td>118</td>\n",
       "      <td>11.660079</td>\n",
       "    </tr>\n",
       "    <tr>\n",
       "      <td>16</td>\n",
       "      <td>jul</td>\n",
       "      <td>mon</td>\n",
       "      <td>1396</td>\n",
       "      <td>120</td>\n",
       "      <td>7.915567</td>\n",
       "    </tr>\n",
       "    <tr>\n",
       "      <td>17</td>\n",
       "      <td>jul</td>\n",
       "      <td>thu</td>\n",
       "      <td>1529</td>\n",
       "      <td>143</td>\n",
       "      <td>8.552632</td>\n",
       "    </tr>\n",
       "    <tr>\n",
       "      <td>18</td>\n",
       "      <td>jul</td>\n",
       "      <td>tue</td>\n",
       "      <td>1384</td>\n",
       "      <td>133</td>\n",
       "      <td>8.767304</td>\n",
       "    </tr>\n",
       "    <tr>\n",
       "      <td>19</td>\n",
       "      <td>jul</td>\n",
       "      <td>wed</td>\n",
       "      <td>1322</td>\n",
       "      <td>135</td>\n",
       "      <td>9.265614</td>\n",
       "    </tr>\n",
       "    <tr>\n",
       "      <td>20</td>\n",
       "      <td>jun</td>\n",
       "      <td>fri</td>\n",
       "      <td>1058</td>\n",
       "      <td>89</td>\n",
       "      <td>7.759372</td>\n",
       "    </tr>\n",
       "    <tr>\n",
       "      <td>21</td>\n",
       "      <td>jun</td>\n",
       "      <td>mon</td>\n",
       "      <td>1115</td>\n",
       "      <td>136</td>\n",
       "      <td>10.871303</td>\n",
       "    </tr>\n",
       "    <tr>\n",
       "      <td>22</td>\n",
       "      <td>jun</td>\n",
       "      <td>thu</td>\n",
       "      <td>876</td>\n",
       "      <td>91</td>\n",
       "      <td>9.410548</td>\n",
       "    </tr>\n",
       "    <tr>\n",
       "      <td>23</td>\n",
       "      <td>jun</td>\n",
       "      <td>tue</td>\n",
       "      <td>845</td>\n",
       "      <td>125</td>\n",
       "      <td>12.886598</td>\n",
       "    </tr>\n",
       "    <tr>\n",
       "      <td>24</td>\n",
       "      <td>jun</td>\n",
       "      <td>wed</td>\n",
       "      <td>865</td>\n",
       "      <td>118</td>\n",
       "      <td>12.004069</td>\n",
       "    </tr>\n",
       "    <tr>\n",
       "      <td>25</td>\n",
       "      <td>mar</td>\n",
       "      <td>fri</td>\n",
       "      <td>45</td>\n",
       "      <td>49</td>\n",
       "      <td>52.127660</td>\n",
       "    </tr>\n",
       "    <tr>\n",
       "      <td>26</td>\n",
       "      <td>mar</td>\n",
       "      <td>mon</td>\n",
       "      <td>86</td>\n",
       "      <td>57</td>\n",
       "      <td>39.860140</td>\n",
       "    </tr>\n",
       "    <tr>\n",
       "      <td>27</td>\n",
       "      <td>mar</td>\n",
       "      <td>thu</td>\n",
       "      <td>55</td>\n",
       "      <td>44</td>\n",
       "      <td>44.444444</td>\n",
       "    </tr>\n",
       "    <tr>\n",
       "      <td>28</td>\n",
       "      <td>mar</td>\n",
       "      <td>tue</td>\n",
       "      <td>56</td>\n",
       "      <td>84</td>\n",
       "      <td>60.000000</td>\n",
       "    </tr>\n",
       "    <tr>\n",
       "      <td>29</td>\n",
       "      <td>mar</td>\n",
       "      <td>wed</td>\n",
       "      <td>28</td>\n",
       "      <td>42</td>\n",
       "      <td>60.000000</td>\n",
       "    </tr>\n",
       "    <tr>\n",
       "      <td>30</td>\n",
       "      <td>may</td>\n",
       "      <td>fri</td>\n",
       "      <td>2659</td>\n",
       "      <td>199</td>\n",
       "      <td>6.962911</td>\n",
       "    </tr>\n",
       "    <tr>\n",
       "      <td>31</td>\n",
       "      <td>may</td>\n",
       "      <td>mon</td>\n",
       "      <td>2451</td>\n",
       "      <td>191</td>\n",
       "      <td>7.229372</td>\n",
       "    </tr>\n",
       "    <tr>\n",
       "      <td>32</td>\n",
       "      <td>may</td>\n",
       "      <td>thu</td>\n",
       "      <td>2376</td>\n",
       "      <td>161</td>\n",
       "      <td>6.346078</td>\n",
       "    </tr>\n",
       "    <tr>\n",
       "      <td>33</td>\n",
       "      <td>may</td>\n",
       "      <td>tue</td>\n",
       "      <td>2660</td>\n",
       "      <td>149</td>\n",
       "      <td>5.304379</td>\n",
       "    </tr>\n",
       "    <tr>\n",
       "      <td>34</td>\n",
       "      <td>may</td>\n",
       "      <td>wed</td>\n",
       "      <td>2737</td>\n",
       "      <td>186</td>\n",
       "      <td>6.363325</td>\n",
       "    </tr>\n",
       "    <tr>\n",
       "      <td>35</td>\n",
       "      <td>nov</td>\n",
       "      <td>fri</td>\n",
       "      <td>672</td>\n",
       "      <td>83</td>\n",
       "      <td>10.993377</td>\n",
       "    </tr>\n",
       "    <tr>\n",
       "      <td>36</td>\n",
       "      <td>nov</td>\n",
       "      <td>mon</td>\n",
       "      <td>699</td>\n",
       "      <td>67</td>\n",
       "      <td>8.746736</td>\n",
       "    </tr>\n",
       "    <tr>\n",
       "      <td>37</td>\n",
       "      <td>nov</td>\n",
       "      <td>thu</td>\n",
       "      <td>811</td>\n",
       "      <td>92</td>\n",
       "      <td>10.188261</td>\n",
       "    </tr>\n",
       "    <tr>\n",
       "      <td>38</td>\n",
       "      <td>nov</td>\n",
       "      <td>tue</td>\n",
       "      <td>724</td>\n",
       "      <td>90</td>\n",
       "      <td>11.056511</td>\n",
       "    </tr>\n",
       "    <tr>\n",
       "      <td>39</td>\n",
       "      <td>nov</td>\n",
       "      <td>wed</td>\n",
       "      <td>779</td>\n",
       "      <td>84</td>\n",
       "      <td>9.733488</td>\n",
       "    </tr>\n",
       "    <tr>\n",
       "      <td>40</td>\n",
       "      <td>oct</td>\n",
       "      <td>fri</td>\n",
       "      <td>73</td>\n",
       "      <td>69</td>\n",
       "      <td>48.591549</td>\n",
       "    </tr>\n",
       "    <tr>\n",
       "      <td>41</td>\n",
       "      <td>oct</td>\n",
       "      <td>mon</td>\n",
       "      <td>87</td>\n",
       "      <td>42</td>\n",
       "      <td>32.558140</td>\n",
       "    </tr>\n",
       "    <tr>\n",
       "      <td>42</td>\n",
       "      <td>oct</td>\n",
       "      <td>thu</td>\n",
       "      <td>89</td>\n",
       "      <td>74</td>\n",
       "      <td>45.398773</td>\n",
       "    </tr>\n",
       "    <tr>\n",
       "      <td>43</td>\n",
       "      <td>oct</td>\n",
       "      <td>tue</td>\n",
       "      <td>82</td>\n",
       "      <td>67</td>\n",
       "      <td>44.966443</td>\n",
       "    </tr>\n",
       "    <tr>\n",
       "      <td>44</td>\n",
       "      <td>oct</td>\n",
       "      <td>wed</td>\n",
       "      <td>72</td>\n",
       "      <td>63</td>\n",
       "      <td>46.666667</td>\n",
       "    </tr>\n",
       "    <tr>\n",
       "      <td>45</td>\n",
       "      <td>sep</td>\n",
       "      <td>fri</td>\n",
       "      <td>69</td>\n",
       "      <td>46</td>\n",
       "      <td>40.000000</td>\n",
       "    </tr>\n",
       "    <tr>\n",
       "      <td>46</td>\n",
       "      <td>sep</td>\n",
       "      <td>mon</td>\n",
       "      <td>63</td>\n",
       "      <td>27</td>\n",
       "      <td>30.000000</td>\n",
       "    </tr>\n",
       "    <tr>\n",
       "      <td>47</td>\n",
       "      <td>sep</td>\n",
       "      <td>thu</td>\n",
       "      <td>64</td>\n",
       "      <td>58</td>\n",
       "      <td>47.540984</td>\n",
       "    </tr>\n",
       "    <tr>\n",
       "      <td>48</td>\n",
       "      <td>sep</td>\n",
       "      <td>tue</td>\n",
       "      <td>57</td>\n",
       "      <td>61</td>\n",
       "      <td>51.694915</td>\n",
       "    </tr>\n",
       "    <tr>\n",
       "      <td>49</td>\n",
       "      <td>sep</td>\n",
       "      <td>wed</td>\n",
       "      <td>61</td>\n",
       "      <td>64</td>\n",
       "      <td>51.200000</td>\n",
       "    </tr>\n",
       "  </tbody>\n",
       "</table>\n",
       "</div>"
      ],
      "text/plain": [
       "y  month day_of_week  no_count  yes_count   sub_rate\n",
       "0    apr         fri       548         62  10.163934\n",
       "1    apr         mon       625         77  10.968661\n",
       "2    apr         thu       538        230  29.947917\n",
       "3    apr         tue       171         81  32.142857\n",
       "4    apr         wed       211         89  29.666667\n",
       "5    aug         fri       948        122  11.401869\n",
       "6    aug         mon      1115        107   8.756137\n",
       "7    aug         thu      1216        131   9.725316\n",
       "8    aug         tue      1148        148  11.419753\n",
       "9    aug         wed      1096        147  11.826227\n",
       "10   dec         fri        15          9  37.500000\n",
       "11   dec         mon        30         23  43.396226\n",
       "12   dec         thu        24         21  46.666667\n",
       "13   dec         tue        10         15  60.000000\n",
       "14   dec         wed        14         21  60.000000\n",
       "15   jul         fri       894        118  11.660079\n",
       "16   jul         mon      1396        120   7.915567\n",
       "17   jul         thu      1529        143   8.552632\n",
       "18   jul         tue      1384        133   8.767304\n",
       "19   jul         wed      1322        135   9.265614\n",
       "20   jun         fri      1058         89   7.759372\n",
       "21   jun         mon      1115        136  10.871303\n",
       "22   jun         thu       876         91   9.410548\n",
       "23   jun         tue       845        125  12.886598\n",
       "24   jun         wed       865        118  12.004069\n",
       "25   mar         fri        45         49  52.127660\n",
       "26   mar         mon        86         57  39.860140\n",
       "27   mar         thu        55         44  44.444444\n",
       "28   mar         tue        56         84  60.000000\n",
       "29   mar         wed        28         42  60.000000\n",
       "30   may         fri      2659        199   6.962911\n",
       "31   may         mon      2451        191   7.229372\n",
       "32   may         thu      2376        161   6.346078\n",
       "33   may         tue      2660        149   5.304379\n",
       "34   may         wed      2737        186   6.363325\n",
       "35   nov         fri       672         83  10.993377\n",
       "36   nov         mon       699         67   8.746736\n",
       "37   nov         thu       811         92  10.188261\n",
       "38   nov         tue       724         90  11.056511\n",
       "39   nov         wed       779         84   9.733488\n",
       "40   oct         fri        73         69  48.591549\n",
       "41   oct         mon        87         42  32.558140\n",
       "42   oct         thu        89         74  45.398773\n",
       "43   oct         tue        82         67  44.966443\n",
       "44   oct         wed        72         63  46.666667\n",
       "45   sep         fri        69         46  40.000000\n",
       "46   sep         mon        63         27  30.000000\n",
       "47   sep         thu        64         58  47.540984\n",
       "48   sep         tue        57         61  51.694915\n",
       "49   sep         wed        61         64  51.200000"
      ]
     },
     "execution_count": 47,
     "metadata": {},
     "output_type": "execute_result"
    }
   ],
   "source": [
    "df_day"
   ]
  },
  {
   "cell_type": "code",
   "execution_count": 48,
   "metadata": {},
   "outputs": [
    {
     "data": {
      "text/plain": [
       "<matplotlib.axes._subplots.AxesSubplot at 0x1c0920f32c8>"
      ]
     },
     "execution_count": 48,
     "metadata": {},
     "output_type": "execute_result"
    },
    {
     "data": {
      "image/png": "[encoded data removed]",
      "text/plain": [
       "<Figure size 720x432 with 1 Axes>"
      ]
     },
     "metadata": {
      "needs_background": "light"
     },
     "output_type": "display_data"
    }
   ],
   "source": [
    "plt.figure(figsize=(10,6))\n",
    "sns.barplot(x=\"month\",y=\"sub_rate\",hue=\"day_of_week\",palette=\"rocket\",data=df_day)"
   ]
  },
  {
   "cell_type": "markdown",
   "metadata": {},
   "source": [
    "#### from the above data and stats we can conclude that most of the calls were made in May,and the highest subscription rate were usually on Tuesdays and Wednesdays with lowest on Fridays"
   ]
  },
  {
   "cell_type": "code",
   "execution_count": 49,
   "metadata": {},
   "outputs": [
    {
     "data": {
      "text/plain": [
       "Index(['age', 'job', 'marital', 'education', 'default', 'housing', 'loan',\n",
       "       'contact', 'month', 'day_of_week', 'duration', 'campaign', 'pdays',\n",
       "       'previous', 'poutcome', 'emp.var.rate', 'cons.price.idx',\n",
       "       'cons.conf.idx', 'euribor3m', 'nr.employed', 'y'],\n",
       "      dtype='object')"
      ]
     },
     "execution_count": 49,
     "metadata": {},
     "output_type": "execute_result"
    }
   ],
   "source": [
    "data.columns"
   ]
  },
  {
   "cell_type": "code",
   "execution_count": 50,
   "metadata": {},
   "outputs": [
    {
     "data": {
      "text/plain": [
       "<matplotlib.axes._subplots.AxesSubplot at 0x1c091b216c8>"
      ]
     },
     "execution_count": 50,
     "metadata": {},
     "output_type": "execute_result"
    },
    {
     "data": {
      "image/png": "[encoded data removed]",
      "text/plain": [
       "<Figure size 1080x360 with 2 Axes>"
      ]
     },
     "metadata": {
      "needs_background": "light"
     },
     "output_type": "display_data"
    }
   ],
   "source": [
    "#Duration\n",
    "fig,axs= plt.subplots(1,2,figsize=(15,5))\n",
    "sns.distplot(data[\"duration\"],ax=axs[1])\n",
    "sns.boxplot(data[\"duration\"],orient=\"h\",ax=axs[0])"
   ]
  },
  {
   "cell_type": "code",
   "execution_count": 51,
   "metadata": {},
   "outputs": [
    {
     "data": {
      "text/plain": [
       "count    41188.000000\n",
       "mean       258.285010\n",
       "std        259.279249\n",
       "min          0.000000\n",
       "25%        102.000000\n",
       "50%        180.000000\n",
       "75%        319.000000\n",
       "max       4918.000000\n",
       "Name: duration, dtype: float64"
      ]
     },
     "execution_count": 51,
     "metadata": {},
     "output_type": "execute_result"
    }
   ],
   "source": [
    "data[\"duration\"].describe()"
   ]
  },
  {
   "cell_type": "markdown",
   "metadata": {},
   "source": [
    "#### From the above graph and stats, we can see that the 75%of the data falls under 319 and the max is at 4918, hence we can try and eliminate the outliers using IQR method later if we want to build a model."
   ]
  },
  {
   "cell_type": "code",
   "execution_count": 52,
   "metadata": {},
   "outputs": [
    {
     "name": "stdout",
     "output_type": "stream",
     "text": [
      "7.193842866854423\n"
     ]
    }
   ],
   "source": [
    "##Calculate the outlier percentage\n",
    "q1,q3=data[\"duration\"].quantile(.25),data[\"duration\"].quantile(.75)\n",
    "IQR=q3-q1\n",
    "u_iqr = q3+1.5*IQR\n",
    "outl=data[data['duration'] > u_iqr][\"duration\"].count()\n",
    "out_per=outl/len(data[\"duration\"]) *100\n",
    "print(out_per)"
   ]
  },
  {
   "cell_type": "code",
   "execution_count": 53,
   "metadata": {},
   "outputs": [
    {
     "data": {
      "text/plain": [
       "[Text(0, 0, 'basic.4y'),\n",
       " Text(0, 0, 'high.school'),\n",
       " Text(0, 0, 'basic.6y'),\n",
       " Text(0, 0, 'basic.9y'),\n",
       " Text(0, 0, 'professional.course'),\n",
       " Text(0, 0, 'unknown'),\n",
       " Text(0, 0, 'university.degree'),\n",
       " Text(0, 0, 'illiterate')]"
      ]
     },
     "execution_count": 53,
     "metadata": {},
     "output_type": "execute_result"
    },
    {
     "data": {
      "image/png": "[encoded data removed]",
      "text/plain": [
       "<Figure size 1296x576 with 1 Axes>"
      ]
     },
     "metadata": {
      "needs_background": "light"
     },
     "output_type": "display_data"
    }
   ],
   "source": [
    "plt.figure(figsize=(18,8))\n",
    "g=sns.boxplot(x=data[\"education\"],y=data[\"duration\"],hue=data[\"y\"],palette=\"rocket\",data=data)\n",
    "g.set_xticklabels(g.get_xticklabels(),rotation=30,fontsize=15)"
   ]
  },
  {
   "cell_type": "code",
   "execution_count": 54,
   "metadata": {},
   "outputs": [
    {
     "data": {
      "text/plain": [
       "<seaborn.axisgrid.FacetGrid at 0x1c0921efb88>"
      ]
     },
     "execution_count": 54,
     "metadata": {},
     "output_type": "execute_result"
    },
    {
     "data": {
      "image/png": "[encoded data removed]",
      "text/plain": [
       "<Figure size 720x360 with 2 Axes>"
      ]
     },
     "metadata": {
      "needs_background": "light"
     },
     "output_type": "display_data"
    }
   ],
   "source": [
    "sns.catplot(\"duration\", col=\"y\",data=data,kind=\"bar\",orient=\"v\") "
   ]
  },
  {
   "cell_type": "code",
   "execution_count": 55,
   "metadata": {},
   "outputs": [],
   "source": [
    "df=data[[\"duration\",\"y\"]]"
   ]
  },
  {
   "cell_type": "code",
   "execution_count": 56,
   "metadata": {},
   "outputs": [],
   "source": [
    "df1=df.groupby([\"y\"],as_index=False).mean()\n",
    "#df.groupby(['Metadata_A','treatment'],as_index=False).agg({'Metadata_B':'mean','ratio':'first'})"
   ]
  },
  {
   "cell_type": "code",
   "execution_count": 57,
   "metadata": {},
   "outputs": [
    {
     "data": {
      "text/html": [
       "<div>\n",
       "<style scoped>\n",
       "    .dataframe tbody tr th:only-of-type {\n",
       "        vertical-align: middle;\n",
       "    }\n",
       "\n",
       "    .dataframe tbody tr th {\n",
       "        vertical-align: top;\n",
       "    }\n",
       "\n",
       "    .dataframe thead th {\n",
       "        text-align: right;\n",
       "    }\n",
       "</style>\n",
       "<table border=\"1\" class=\"dataframe\">\n",
       "  <thead>\n",
       "    <tr style=\"text-align: right;\">\n",
       "      <th></th>\n",
       "      <th>y</th>\n",
       "      <th>duration</th>\n",
       "    </tr>\n",
       "  </thead>\n",
       "  <tbody>\n",
       "    <tr>\n",
       "      <td>0</td>\n",
       "      <td>no</td>\n",
       "      <td>220.844807</td>\n",
       "    </tr>\n",
       "    <tr>\n",
       "      <td>1</td>\n",
       "      <td>yes</td>\n",
       "      <td>553.191164</td>\n",
       "    </tr>\n",
       "  </tbody>\n",
       "</table>\n",
       "</div>"
      ],
      "text/plain": [
       "     y    duration\n",
       "0   no  220.844807\n",
       "1  yes  553.191164"
      ]
     },
     "execution_count": 57,
     "metadata": {},
     "output_type": "execute_result"
    }
   ],
   "source": [
    "df1"
   ]
  },
  {
   "cell_type": "code",
   "execution_count": 58,
   "metadata": {},
   "outputs": [],
   "source": [
    "df1=data.groupby([\"y\",\"job\"],as_index=False).mean()"
   ]
  },
  {
   "cell_type": "code",
   "execution_count": 59,
   "metadata": {},
   "outputs": [
    {
     "data": {
      "text/html": [
       "<div>\n",
       "<style scoped>\n",
       "    .dataframe tbody tr th:only-of-type {\n",
       "        vertical-align: middle;\n",
       "    }\n",
       "\n",
       "    .dataframe tbody tr th {\n",
       "        vertical-align: top;\n",
       "    }\n",
       "\n",
       "    .dataframe thead th {\n",
       "        text-align: right;\n",
       "    }\n",
       "</style>\n",
       "<table border=\"1\" class=\"dataframe\">\n",
       "  <thead>\n",
       "    <tr style=\"text-align: right;\">\n",
       "      <th></th>\n",
       "      <th>y</th>\n",
       "      <th>job</th>\n",
       "      <th>age</th>\n",
       "      <th>duration</th>\n",
       "      <th>campaign</th>\n",
       "      <th>pdays</th>\n",
       "      <th>previous</th>\n",
       "      <th>emp.var.rate</th>\n",
       "      <th>cons.price.idx</th>\n",
       "      <th>cons.conf.idx</th>\n",
       "      <th>euribor3m</th>\n",
       "      <th>nr.employed</th>\n",
       "    </tr>\n",
       "  </thead>\n",
       "  <tbody>\n",
       "    <tr>\n",
       "      <td>0</td>\n",
       "      <td>no</td>\n",
       "      <td>admin.</td>\n",
       "      <td>38.219846</td>\n",
       "      <td>215.093385</td>\n",
       "      <td>2.707718</td>\n",
       "      <td>981.270783</td>\n",
       "      <td>0.141125</td>\n",
       "      <td>0.224068</td>\n",
       "      <td>93.566030</td>\n",
       "      <td>-40.349768</td>\n",
       "      <td>3.786567</td>\n",
       "      <td>5175.512051</td>\n",
       "    </tr>\n",
       "    <tr>\n",
       "      <td>1</td>\n",
       "      <td>no</td>\n",
       "      <td>blue-collar</td>\n",
       "      <td>39.582057</td>\n",
       "      <td>229.878018</td>\n",
       "      <td>2.588208</td>\n",
       "      <td>991.516365</td>\n",
       "      <td>0.111653</td>\n",
       "      <td>0.303552</td>\n",
       "      <td>93.668887</td>\n",
       "      <td>-41.346565</td>\n",
       "      <td>3.835402</td>\n",
       "      <td>5178.296031</td>\n",
       "    </tr>\n",
       "    <tr>\n",
       "      <td>2</td>\n",
       "      <td>no</td>\n",
       "      <td>entrepreneur</td>\n",
       "      <td>41.703453</td>\n",
       "      <td>225.632883</td>\n",
       "      <td>2.579580</td>\n",
       "      <td>987.813814</td>\n",
       "      <td>0.128378</td>\n",
       "      <td>0.242868</td>\n",
       "      <td>93.626245</td>\n",
       "      <td>-41.319820</td>\n",
       "      <td>3.881632</td>\n",
       "      <td>5180.205631</td>\n",
       "    </tr>\n",
       "    <tr>\n",
       "      <td>3</td>\n",
       "      <td>no</td>\n",
       "      <td>housemaid</td>\n",
       "      <td>44.705451</td>\n",
       "      <td>218.778826</td>\n",
       "      <td>2.722222</td>\n",
       "      <td>986.491614</td>\n",
       "      <td>0.089099</td>\n",
       "      <td>0.641300</td>\n",
       "      <td>93.712759</td>\n",
       "      <td>-39.626834</td>\n",
       "      <td>4.243082</td>\n",
       "      <td>5190.553249</td>\n",
       "    </tr>\n",
       "    <tr>\n",
       "      <td>4</td>\n",
       "      <td>no</td>\n",
       "      <td>management</td>\n",
       "      <td>42.309707</td>\n",
       "      <td>220.828197</td>\n",
       "      <td>2.532357</td>\n",
       "      <td>984.848613</td>\n",
       "      <td>0.140986</td>\n",
       "      <td>0.141217</td>\n",
       "      <td>93.550062</td>\n",
       "      <td>-40.619992</td>\n",
       "      <td>3.785477</td>\n",
       "      <td>5175.037442</td>\n",
       "    </tr>\n",
       "    <tr>\n",
       "      <td>5</td>\n",
       "      <td>no</td>\n",
       "      <td>retired</td>\n",
       "      <td>59.926128</td>\n",
       "      <td>224.263608</td>\n",
       "      <td>2.657076</td>\n",
       "      <td>960.369362</td>\n",
       "      <td>0.212286</td>\n",
       "      <td>-0.283904</td>\n",
       "      <td>93.493273</td>\n",
       "      <td>-38.920762</td>\n",
       "      <td>3.249794</td>\n",
       "      <td>5146.043313</td>\n",
       "    </tr>\n",
       "    <tr>\n",
       "      <td>6</td>\n",
       "      <td>no</td>\n",
       "      <td>self-employed</td>\n",
       "      <td>40.176887</td>\n",
       "      <td>222.220912</td>\n",
       "      <td>2.724843</td>\n",
       "      <td>988.073113</td>\n",
       "      <td>0.123428</td>\n",
       "      <td>0.242610</td>\n",
       "      <td>93.591786</td>\n",
       "      <td>-40.501022</td>\n",
       "      <td>3.854206</td>\n",
       "      <td>5177.958019</td>\n",
       "    </tr>\n",
       "    <tr>\n",
       "      <td>7</td>\n",
       "      <td>no</td>\n",
       "      <td>services</td>\n",
       "      <td>38.090236</td>\n",
       "      <td>225.047998</td>\n",
       "      <td>2.619309</td>\n",
       "      <td>991.091607</td>\n",
       "      <td>0.136314</td>\n",
       "      <td>0.256720</td>\n",
       "      <td>93.650433</td>\n",
       "      <td>-41.327537</td>\n",
       "      <td>3.793805</td>\n",
       "      <td>5176.038069</td>\n",
       "    </tr>\n",
       "    <tr>\n",
       "      <td>8</td>\n",
       "      <td>no</td>\n",
       "      <td>student</td>\n",
       "      <td>26.396667</td>\n",
       "      <td>228.851667</td>\n",
       "      <td>2.238333</td>\n",
       "      <td>924.596667</td>\n",
       "      <td>0.395000</td>\n",
       "      <td>-1.133167</td>\n",
       "      <td>93.350790</td>\n",
       "      <td>-40.751500</td>\n",
       "      <td>2.208683</td>\n",
       "      <td>5104.507500</td>\n",
       "    </tr>\n",
       "    <tr>\n",
       "      <td>9</td>\n",
       "      <td>no</td>\n",
       "      <td>technician</td>\n",
       "      <td>38.600033</td>\n",
       "      <td>213.452021</td>\n",
       "      <td>2.641776</td>\n",
       "      <td>985.135540</td>\n",
       "      <td>0.111093</td>\n",
       "      <td>0.441693</td>\n",
       "      <td>93.584196</td>\n",
       "      <td>-39.918310</td>\n",
       "      <td>4.012318</td>\n",
       "      <td>5184.951705</td>\n",
       "    </tr>\n",
       "    <tr>\n",
       "      <td>10</td>\n",
       "      <td>no</td>\n",
       "      <td>unemployed</td>\n",
       "      <td>39.844828</td>\n",
       "      <td>212.706897</td>\n",
       "      <td>2.668966</td>\n",
       "      <td>973.879310</td>\n",
       "      <td>0.131034</td>\n",
       "      <td>0.147241</td>\n",
       "      <td>93.604369</td>\n",
       "      <td>-40.193908</td>\n",
       "      <td>3.775461</td>\n",
       "      <td>5172.245172</td>\n",
       "    </tr>\n",
       "    <tr>\n",
       "      <td>11</td>\n",
       "      <td>no</td>\n",
       "      <td>unknown</td>\n",
       "      <td>45.375427</td>\n",
       "      <td>204.559727</td>\n",
       "      <td>2.679181</td>\n",
       "      <td>954.873720</td>\n",
       "      <td>0.095563</td>\n",
       "      <td>0.555290</td>\n",
       "      <td>93.748703</td>\n",
       "      <td>-38.882594</td>\n",
       "      <td>4.154038</td>\n",
       "      <td>5182.742662</td>\n",
       "    </tr>\n",
       "    <tr>\n",
       "      <td>12</td>\n",
       "      <td>yes</td>\n",
       "      <td>admin.</td>\n",
       "      <td>37.968935</td>\n",
       "      <td>517.414201</td>\n",
       "      <td>2.058432</td>\n",
       "      <td>773.512574</td>\n",
       "      <td>0.510355</td>\n",
       "      <td>-1.383210</td>\n",
       "      <td>93.319537</td>\n",
       "      <td>-39.545488</td>\n",
       "      <td>1.965078</td>\n",
       "      <td>5087.736760</td>\n",
       "    </tr>\n",
       "    <tr>\n",
       "      <td>13</td>\n",
       "      <td>yes</td>\n",
       "      <td>blue-collar</td>\n",
       "      <td>39.200627</td>\n",
       "      <td>732.673981</td>\n",
       "      <td>2.156740</td>\n",
       "      <td>899.324451</td>\n",
       "      <td>0.269592</td>\n",
       "      <td>-0.487774</td>\n",
       "      <td>93.491480</td>\n",
       "      <td>-41.770846</td>\n",
       "      <td>2.915715</td>\n",
       "      <td>5139.410658</td>\n",
       "    </tr>\n",
       "    <tr>\n",
       "      <td>14</td>\n",
       "      <td>yes</td>\n",
       "      <td>entrepreneur</td>\n",
       "      <td>41.935484</td>\n",
       "      <td>667.540323</td>\n",
       "      <td>2.064516</td>\n",
       "      <td>910.943548</td>\n",
       "      <td>0.250000</td>\n",
       "      <td>-0.745161</td>\n",
       "      <td>93.381153</td>\n",
       "      <td>-40.895161</td>\n",
       "      <td>2.818839</td>\n",
       "      <td>5134.504839</td>\n",
       "    </tr>\n",
       "    <tr>\n",
       "      <td>15</td>\n",
       "      <td>yes</td>\n",
       "      <td>housemaid</td>\n",
       "      <td>52.650943</td>\n",
       "      <td>535.537736</td>\n",
       "      <td>1.896226</td>\n",
       "      <td>727.367925</td>\n",
       "      <td>0.575472</td>\n",
       "      <td>-1.437736</td>\n",
       "      <td>93.350934</td>\n",
       "      <td>-38.311321</td>\n",
       "      <td>1.908717</td>\n",
       "      <td>5080.316981</td>\n",
       "    </tr>\n",
       "    <tr>\n",
       "      <td>16</td>\n",
       "      <td>yes</td>\n",
       "      <td>management</td>\n",
       "      <td>42.783537</td>\n",
       "      <td>543.804878</td>\n",
       "      <td>2.030488</td>\n",
       "      <td>786.929878</td>\n",
       "      <td>0.533537</td>\n",
       "      <td>-1.230793</td>\n",
       "      <td>93.306631</td>\n",
       "      <td>-39.456402</td>\n",
       "      <td>2.232896</td>\n",
       "      <td>5100.271037</td>\n",
       "    </tr>\n",
       "    <tr>\n",
       "      <td>17</td>\n",
       "      <td>yes</td>\n",
       "      <td>retired</td>\n",
       "      <td>68.253456</td>\n",
       "      <td>420.235023</td>\n",
       "      <td>1.942396</td>\n",
       "      <td>712.937788</td>\n",
       "      <td>0.668203</td>\n",
       "      <td>-1.926267</td>\n",
       "      <td>93.245629</td>\n",
       "      <td>-37.542857</td>\n",
       "      <td>1.348569</td>\n",
       "      <td>5051.795392</td>\n",
       "    </tr>\n",
       "    <tr>\n",
       "      <td>18</td>\n",
       "      <td>yes</td>\n",
       "      <td>self-employed</td>\n",
       "      <td>38.006711</td>\n",
       "      <td>622.020134</td>\n",
       "      <td>2.114094</td>\n",
       "      <td>878.859060</td>\n",
       "      <td>0.315436</td>\n",
       "      <td>-1.173154</td>\n",
       "      <td>93.288470</td>\n",
       "      <td>-40.377852</td>\n",
       "      <td>2.282242</td>\n",
       "      <td>5108.494631</td>\n",
       "    </tr>\n",
       "    <tr>\n",
       "      <td>19</td>\n",
       "      <td>yes</td>\n",
       "      <td>services</td>\n",
       "      <td>36.077399</td>\n",
       "      <td>634.851393</td>\n",
       "      <td>2.232198</td>\n",
       "      <td>854.479876</td>\n",
       "      <td>0.365325</td>\n",
       "      <td>-0.743034</td>\n",
       "      <td>93.456598</td>\n",
       "      <td>-40.866873</td>\n",
       "      <td>2.631139</td>\n",
       "      <td>5121.504954</td>\n",
       "    </tr>\n",
       "    <tr>\n",
       "      <td>20</td>\n",
       "      <td>yes</td>\n",
       "      <td>student</td>\n",
       "      <td>24.800000</td>\n",
       "      <td>403.316364</td>\n",
       "      <td>1.810909</td>\n",
       "      <td>656.116364</td>\n",
       "      <td>0.807273</td>\n",
       "      <td>-2.007636</td>\n",
       "      <td>93.289771</td>\n",
       "      <td>-38.957091</td>\n",
       "      <td>1.176313</td>\n",
       "      <td>5045.426182</td>\n",
       "    </tr>\n",
       "    <tr>\n",
       "      <td>21</td>\n",
       "      <td>yes</td>\n",
       "      <td>technician</td>\n",
       "      <td>37.746575</td>\n",
       "      <td>553.190411</td>\n",
       "      <td>2.046575</td>\n",
       "      <td>793.676712</td>\n",
       "      <td>0.505479</td>\n",
       "      <td>-1.102055</td>\n",
       "      <td>93.374286</td>\n",
       "      <td>-40.003836</td>\n",
       "      <td>2.239584</td>\n",
       "      <td>5099.017123</td>\n",
       "    </tr>\n",
       "    <tr>\n",
       "      <td>22</td>\n",
       "      <td>yes</td>\n",
       "      <td>unemployed</td>\n",
       "      <td>39.062500</td>\n",
       "      <td>471.451389</td>\n",
       "      <td>1.930556</td>\n",
       "      <td>702.333333</td>\n",
       "      <td>0.611111</td>\n",
       "      <td>-1.676389</td>\n",
       "      <td>93.318563</td>\n",
       "      <td>-38.881944</td>\n",
       "      <td>1.600444</td>\n",
       "      <td>5065.995833</td>\n",
       "    </tr>\n",
       "    <tr>\n",
       "      <td>23</td>\n",
       "      <td>yes</td>\n",
       "      <td>unknown</td>\n",
       "      <td>47.054054</td>\n",
       "      <td>517.756757</td>\n",
       "      <td>2.405405</td>\n",
       "      <td>810.864865</td>\n",
       "      <td>0.621622</td>\n",
       "      <td>-1.205405</td>\n",
       "      <td>93.483270</td>\n",
       "      <td>-38.127027</td>\n",
       "      <td>2.325622</td>\n",
       "      <td>5095.240541</td>\n",
       "    </tr>\n",
       "  </tbody>\n",
       "</table>\n",
       "</div>"
      ],
      "text/plain": [
       "      y            job        age    duration  campaign       pdays  previous  \\\n",
       "0    no         admin.  38.219846  215.093385  2.707718  981.270783  0.141125   \n",
       "1    no    blue-collar  39.582057  229.878018  2.588208  991.516365  0.111653   \n",
       "2    no   entrepreneur  41.703453  225.632883  2.579580  987.813814  0.128378   \n",
       "3    no      housemaid  44.705451  218.778826  2.722222  986.491614  0.089099   \n",
       "4    no     management  42.309707  220.828197  2.532357  984.848613  0.140986   \n",
       "5    no        retired  59.926128  224.263608  2.657076  960.369362  0.212286   \n",
       "6    no  self-employed  40.176887  222.220912  2.724843  988.073113  0.123428   \n",
       "7    no       services  38.090236  225.047998  2.619309  991.091607  0.136314   \n",
       "8    no        student  26.396667  228.851667  2.238333  924.596667  0.395000   \n",
       "9    no     technician  38.600033  213.452021  2.641776  985.135540  0.111093   \n",
       "10   no     unemployed  39.844828  212.706897  2.668966  973.879310  0.131034   \n",
       "11   no        unknown  45.375427  204.559727  2.679181  954.873720  0.095563   \n",
       "12  yes         admin.  37.968935  517.414201  2.058432  773.512574  0.510355   \n",
       "13  yes    blue-collar  39.200627  732.673981  2.156740  899.324451  0.269592   \n",
       "14  yes   entrepreneur  41.935484  667.540323  2.064516  910.943548  0.250000   \n",
       "15  yes      housemaid  52.650943  535.537736  1.896226  727.367925  0.575472   \n",
       "16  yes     management  42.783537  543.804878  2.030488  786.929878  0.533537   \n",
       "17  yes        retired  68.253456  420.235023  1.942396  712.937788  0.668203   \n",
       "18  yes  self-employed  38.006711  622.020134  2.114094  878.859060  0.315436   \n",
       "19  yes       services  36.077399  634.851393  2.232198  854.479876  0.365325   \n",
       "20  yes        student  24.800000  403.316364  1.810909  656.116364  0.807273   \n",
       "21  yes     technician  37.746575  553.190411  2.046575  793.676712  0.505479   \n",
       "22  yes     unemployed  39.062500  471.451389  1.930556  702.333333  0.611111   \n",
       "23  yes        unknown  47.054054  517.756757  2.405405  810.864865  0.621622   \n",
       "\n",
       "    emp.var.rate  cons.price.idx  cons.conf.idx  euribor3m  nr.employed  \n",
       "0       0.224068       93.566030     -40.349768   3.786567  5175.512051  \n",
       "1       0.303552       93.668887     -41.346565   3.835402  5178.296031  \n",
       "2       0.242868       93.626245     -41.319820   3.881632  5180.205631  \n",
       "3       0.641300       93.712759     -39.626834   4.243082  5190.553249  \n",
       "4       0.141217       93.550062     -40.619992   3.785477  5175.037442  \n",
       "5      -0.283904       93.493273     -38.920762   3.249794  5146.043313  \n",
       "6       0.242610       93.591786     -40.501022   3.854206  5177.958019  \n",
       "7       0.256720       93.650433     -41.327537   3.793805  5176.038069  \n",
       "8      -1.133167       93.350790     -40.751500   2.208683  5104.507500  \n",
       "9       0.441693       93.584196     -39.918310   4.012318  5184.951705  \n",
       "10      0.147241       93.604369     -40.193908   3.775461  5172.245172  \n",
       "11      0.555290       93.748703     -38.882594   4.154038  5182.742662  \n",
       "12     -1.383210       93.319537     -39.545488   1.965078  5087.736760  \n",
       "13     -0.487774       93.491480     -41.770846   2.915715  5139.410658  \n",
       "14     -0.745161       93.381153     -40.895161   2.818839  5134.504839  \n",
       "15     -1.437736       93.350934     -38.311321   1.908717  5080.316981  \n",
       "16     -1.230793       93.306631     -39.456402   2.232896  5100.271037  \n",
       "17     -1.926267       93.245629     -37.542857   1.348569  5051.795392  \n",
       "18     -1.173154       93.288470     -40.377852   2.282242  5108.494631  \n",
       "19     -0.743034       93.456598     -40.866873   2.631139  5121.504954  \n",
       "20     -2.007636       93.289771     -38.957091   1.176313  5045.426182  \n",
       "21     -1.102055       93.374286     -40.003836   2.239584  5099.017123  \n",
       "22     -1.676389       93.318563     -38.881944   1.600444  5065.995833  \n",
       "23     -1.205405       93.483270     -38.127027   2.325622  5095.240541  "
      ]
     },
     "execution_count": 59,
     "metadata": {},
     "output_type": "execute_result"
    }
   ],
   "source": [
    "df1"
   ]
  },
  {
   "cell_type": "code",
   "execution_count": 60,
   "metadata": {},
   "outputs": [
    {
     "data": {
      "text/plain": [
       "[Text(0, 0, 'admin.'),\n",
       " Text(0, 0, 'blue-collar'),\n",
       " Text(0, 0, 'entrepreneur'),\n",
       " Text(0, 0, 'housemaid'),\n",
       " Text(0, 0, 'management'),\n",
       " Text(0, 0, 'retired'),\n",
       " Text(0, 0, 'self-employed'),\n",
       " Text(0, 0, 'services'),\n",
       " Text(0, 0, 'student'),\n",
       " Text(0, 0, 'technician'),\n",
       " Text(0, 0, 'unemployed'),\n",
       " Text(0, 0, 'unknown')]"
      ]
     },
     "execution_count": 60,
     "metadata": {},
     "output_type": "execute_result"
    },
    {
     "data": {
      "image/png": "[encoded data removed]",
      "text/plain": [
       "<Figure size 1080x504 with 1 Axes>"
      ]
     },
     "metadata": {
      "needs_background": "light"
     },
     "output_type": "display_data"
    }
   ],
   "source": [
    "plt.figure(figsize=(15,7))\n",
    "ax=sns.barplot(x=\"job\",y=\"duration\",hue=\"y\",data=df1,palette=\"rocket\")\n",
    "ax.set_xlabel(\"Job\",fontsize=10)\n",
    "ax.set_ylabel(\"Average Duration\",fontsize=10)\n",
    "ax.set_title(\"Average Duration for Subscription rate\",fontsize=15)\n",
    "ax.set_xticklabels(ax.get_xticklabels(),rotation=45)"
   ]
  },
  {
   "cell_type": "code",
   "execution_count": 61,
   "metadata": {},
   "outputs": [
    {
     "data": {
      "image/png": "[encoded data removed]",
      "text/plain": [
       "<Figure size 2160x864 with 1 Axes>"
      ]
     },
     "metadata": {
      "needs_background": "light"
     },
     "output_type": "display_data"
    }
   ],
   "source": [
    "fig, ax = plt.subplots()\n",
    "fig.set_size_inches(30, 12)\n",
    "sns.countplot(x = 'duration',  palette=\"rocket\", data = data)\n",
    "ax.set_xlabel('duration of call', fontsize=15)\n",
    "ax.set_ylabel('Count', fontsize=15)\n",
    "ax.set_title('Duration Distribution', fontsize=15)\n",
    "sns.despine()"
   ]
  },
  {
   "cell_type": "markdown",
   "metadata": {},
   "source": [
    "* From the above graphs and data we can see that duration plays a major factor in the subscription rate of a call, longer the duration , more are thec chances of a call converting intoa a subscription we can also see that, the duration of the call of the people who did not subscribe "
   ]
  }
 ],
 "metadata": {
  "kernelspec": {
   "display_name": "Python 3",
   "language": "python",
   "name": "python3"
  },
  "language_info": {
   "codemirror_mode": {
    "name": "ipython",
    "version": 3
   },
   "file_extension": ".py",
   "mimetype": "text/x-python",
   "name": "python",
   "nbconvert_exporter": "python",
   "pygments_lexer": "ipython3",
   "version": "3.7.4"
  },
  "varInspector": {
   "cols": {
    "lenName": 16,
    "lenType": 16,
    "lenVar": 40
   },
   "kernels_config": {
    "python": {
     "delete_cmd_postfix": "",
     "delete_cmd_prefix": "del ",
     "library": "var_list.py",
     "varRefreshCmd": "print(var_dic_list())"
    },
    "r": {
     "delete_cmd_postfix": ") ",
     "delete_cmd_prefix": "rm(",
     "library": "var_list.r",
     "varRefreshCmd": "cat(var_dic_list()) "
    }
   },
   "types_to_exclude": [
    "module",
    "function",
    "builtin_function_or_method",
    "instance",
    "_Feature"
   ],
   "window_display": false
  }
 },
 "nbformat": 4,
 "nbformat_minor": 2
}
